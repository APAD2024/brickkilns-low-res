{
 "cells": [
  {
   "cell_type": "code",
   "execution_count": 2,
   "id": "ca47df27-14d3-47ee-b96c-d536f6cc88d3",
   "metadata": {},
   "outputs": [],
   "source": [
    "import os\n",
    "import matplotlib.pyplot as plt\n",
    "import geopandas as gpd\n",
    "import shutil\n",
    "import os"
   ]
  },
  {
   "cell_type": "code",
   "execution_count": 3,
   "id": "08cfd1f1-3840-4897-b6a9-e2ff1fc8f491",
   "metadata": {},
   "outputs": [],
   "source": [
    "gdf = gpd.read_file('../Data/ARCGIS Grids/pak_arcgis')"
   ]
  },
  {
   "cell_type": "code",
   "execution_count": 4,
   "id": "1f87261f-4518-4937-afa7-93fa5b42f878",
   "metadata": {},
   "outputs": [],
   "source": [
    "output_dir = '../Data/ARCGIS Grids/pak_arcgis_intermediate'"
   ]
  },
  {
   "cell_type": "code",
   "execution_count": 5,
   "id": "3d67634f-6f62-4954-a1bb-01bc5d48571b",
   "metadata": {},
   "outputs": [],
   "source": [
    "# Iterate over each grid and save it as a shapefile\n",
    "for i, row in gdf.iterrows():\n",
    "    grid_geometry = row['geometry']\n",
    "    grid_gdf = gpd.GeoDataFrame(geometry=[grid_geometry], crs=gdf.crs)\n",
    "    grid_gdf.to_file(os.path.join(output_dir, f'grid_{i}.shp'))"
   ]
  },
  {
   "cell_type": "code",
   "execution_count": 6,
   "id": "dfeff47f-2f1d-4cbe-abad-e01fdb8d8cbc",
   "metadata": {},
   "outputs": [],
   "source": [
    "input_dir = '../Data/ARCGIS Grids/pak_arcgis_intermediate'\n",
    "output_dir = '../Data/ARCGIS Grids/pak_arcgis_final'\n",
    "os.makedirs(output_dir, exist_ok=True)"
   ]
  },
  {
   "cell_type": "code",
   "execution_count": 7,
   "id": "b3a5e262-f860-4f8d-b037-fd17a291585e",
   "metadata": {},
   "outputs": [],
   "source": [
    "for filename in os.listdir(input_dir):\n",
    "    if filename.endswith('.shp') or filename.endswith('.dbf') or filename.endswith('.shx') or filename.endswith('.prj'):\n",
    "        src_file = os.path.join(input_dir, filename)\n",
    "        dst_file = os.path.join(output_dir, filename)\n",
    "        try:\n",
    "            shutil.move(src_file, dst_file)\n",
    "        except FileNotFoundError:\n",
    "            print(f\"File {src_file} not found.\")"
   ]
  },
  {
   "cell_type": "code",
   "execution_count": 8,
   "id": "118d3fb8-ab7a-45ee-9a62-b69267bcc060",
   "metadata": {},
   "outputs": [
    {
     "name": "stdout",
     "output_type": "stream",
     "text": [
      "1: grid_0.shp\n",
      "2: grid_0.shx\n",
      "3: grid_0.dbf\n",
      "4: grid_0.prj\n",
      "5: grid_1.shp\n",
      "6: grid_1.shx\n",
      "7: grid_1.dbf\n",
      "8: grid_1.prj\n",
      "9: grid_2.shp\n",
      "10: grid_2.shx\n"
     ]
    }
   ],
   "source": [
    "all_files = os.listdir(output_dir)\n",
    "\n",
    "# Print the first 10 files\n",
    "for i, filename in enumerate(all_files[:10]):\n",
    "    print(f'{i + 1}: {filename}')"
   ]
  },
  {
   "cell_type": "code",
   "execution_count": 9,
   "id": "2a3445cb-237e-4df3-bb20-facf7d2362ea",
   "metadata": {},
   "outputs": [
    {
     "data": {
      "text/plain": [
       "2753904"
      ]
     },
     "execution_count": 9,
     "metadata": {},
     "output_type": "execute_result"
    }
   ],
   "source": [
    "len (all_files)"
   ]
  },
  {
   "cell_type": "code",
   "execution_count": 11,
   "id": "cb8b05c7-d3a6-46ab-8a6f-0516612c6dfc",
   "metadata": {},
   "outputs": [],
   "source": [
    "for filename in os.listdir(output_dir):\n",
    "    if filename.endswith('.shp'):\n",
    "        i = i + 1\n",
    "\n"
   ]
  },
  {
   "cell_type": "code",
   "execution_count": 12,
   "id": "249ab067-8f4e-4954-a878-50e58eec5a96",
   "metadata": {},
   "outputs": [
    {
     "data": {
      "text/plain": [
       "688485"
      ]
     },
     "execution_count": 12,
     "metadata": {},
     "output_type": "execute_result"
    }
   ],
   "source": [
    "i"
   ]
  },
  {
   "cell_type": "code",
   "execution_count": null,
   "id": "2310d940-ee5f-4b8a-a0bb-7014d997ae61",
   "metadata": {},
   "outputs": [],
   "source": []
  }
 ],
 "metadata": {
  "kernelspec": {
   "display_name": "Python 3 (ipykernel)",
   "language": "python",
   "name": "python3"
  },
  "language_info": {
   "codemirror_mode": {
    "name": "ipython",
    "version": 3
   },
   "file_extension": ".py",
   "mimetype": "text/x-python",
   "name": "python",
   "nbconvert_exporter": "python",
   "pygments_lexer": "ipython3",
   "version": "3.9.16"
  }
 },
 "nbformat": 4,
 "nbformat_minor": 5
}
